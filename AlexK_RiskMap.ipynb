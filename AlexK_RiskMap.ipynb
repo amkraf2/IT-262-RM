{
  "nbformat": 4,
  "nbformat_minor": 0,
  "metadata": {
    "colab": {
      "name": "AlexK_RiskMap.ipynb",
      "provenance": [],
      "mount_file_id": "1NKXwMNo4Aq5jLCdgemcJlK2bSJC64g8J",
      "authorship_tag": "ABX9TyPcdH/jqq1NsDeiApvXHd78",
      "include_colab_link": true
    },
    "kernelspec": {
      "name": "python3",
      "display_name": "Python 3"
    },
    "language_info": {
      "name": "python"
    }
  },
  "cells": [
    {
      "cell_type": "markdown",
      "metadata": {
        "id": "view-in-github",
        "colab_type": "text"
      },
      "source": [
        "<a href=\"https://colab.research.google.com/github/amkraf2/IT-262-RM/blob/main/AlexK_RiskMap.ipynb\" target=\"_parent\"><img src=\"https://colab.research.google.com/assets/colab-badge.svg\" alt=\"Open In Colab\"/></a>"
      ]
    },
    {
      "cell_type": "code",
      "execution_count": 17,
      "metadata": {
        "colab": {
          "base_uri": "https://localhost:8080/",
          "height": 491
        },
        "id": "qGYJWFprsOFN",
        "outputId": "0789a271-cc55-423b-d6d0-1633f92345c3"
      },
      "outputs": [
        {
          "output_type": "stream",
          "name": "stdout",
          "text": [
            "likelihood  0.1  0.2  0.3  0.5\n",
            "impact                        \n",
            "1           NaN  0.2  NaN  NaN\n",
            "2           NaN  NaN  0.6  NaN\n",
            "7           0.7  NaN  NaN  NaN\n",
            "10          NaN  NaN  NaN  5.0\n",
            "likelihood     0.1    0.2   0.3       0.5\n",
            "impact                                   \n",
            "1              NaN  users   NaN       NaN\n",
            "2              NaN    NaN  team       NaN\n",
            "7           budget    NaN   NaN       NaN\n",
            "10             NaN    NaN   NaN  security\n"
          ]
        },
        {
          "output_type": "display_data",
          "data": {
            "image/png": "[encoded data removed]",
            "text/plain": [
              "<Figure size 432x288 with 2 Axes>"
            ]
          },
          "metadata": {
            "needs_background": "light"
          }
        }
      ],
      "source": [
        "# library\n",
        "import seaborn as sns\n",
        "import pandas as pd\n",
        "import numpy as np\n",
        "\n",
        "#create a datfrane (data table)\n",
        "df = pd.DataFrame(columns=['risk', 'likelihood', 'impact', 'score'])\n",
        "\n",
        "df['risk']=['users', 'team', 'budget', 'security']\n",
        "\n",
        "df['likelihood']=[0.2,0.3,0.1,0.5]\n",
        "\n",
        "df['impact']=[1,2,7,10]\n",
        "df['score']=df['impact']*df['likelihood']\n",
        "\n",
        "scoresPivot=df.pivot('impact', 'likelihood', 'score')\n",
        "print(scoresPivot)\n",
        "\n",
        "labelsPivot=df.pivot('impact', 'likelihood', 'risk')\n",
        "print(labelsPivot)\n",
        "\n",
        "\n",
        "#simple heatmap\n",
        "p1=sns.heatmap(scoresPivot, cmap=\"icefire\",annot=labelsPivot, fmt='')"
      ]
    }
  ]
}